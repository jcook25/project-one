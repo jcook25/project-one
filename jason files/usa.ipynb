{
 "cells": [
  {
   "cell_type": "code",
   "execution_count": 1,
   "metadata": {},
   "outputs": [
    {
     "data": {
      "text/html": [
       "        <script type=\"text/javascript\">\n",
       "        window.PlotlyConfig = {MathJaxConfig: 'local'};\n",
       "        if (window.MathJax) {MathJax.Hub.Config({SVG: {font: \"STIX-Web\"}});}\n",
       "        if (typeof require !== 'undefined') {\n",
       "        require.undef(\"plotly\");\n",
       "        requirejs.config({\n",
       "            paths: {\n",
       "                'plotly': ['https://cdn.plot.ly/plotly-latest.min']\n",
       "            }\n",
       "        });\n",
       "        require(['plotly'], function(Plotly) {\n",
       "            window._Plotly = Plotly;\n",
       "        });\n",
       "        }\n",
       "        </script>\n",
       "        "
      ]
     },
     "metadata": {},
     "output_type": "display_data"
    }
   ],
   "source": [
    "import numpy as np # linear algebra\n",
    "import pandas as pd # data processing, CSV file I/O (e.g. pd.read_csv)\n",
    "import matplotlib.pyplot as plt\n",
    "import seaborn as sns\n",
    "import scipy.stats as stats\n",
    "\n",
    "import warnings\n",
    "warnings.filterwarnings('ignore')\n",
    "import plotly as py\n",
    "import plotly.graph_objs as go\n",
    "import pandas as pd\n",
    "\n",
    "from plotly.offline import init_notebook_mode, iplot # plotly offline mode\n",
    "init_notebook_mode(connected=True) \n",
    "#files to read\n",
    "data = \"../sheets/full_j.csv\"\n",
    "\n",
    "#read yearly data files\n",
    "wh = pd.read_csv(data)\n",
    "# whn = wh.set_index(\"Country\")\n",
    "# # wh_usa = wh.loc[\"United States\",]\n",
    "# wh.head()\n",
    "# #whry.to_csv(\"Sheets/whry.csv\", index=False, header=True)"
   ]
  },
  {
   "cell_type": "code",
   "execution_count": 2,
   "metadata": {},
   "outputs": [],
   "source": [
    "whi = wh.set_index(\"Country\")"
   ]
  },
  {
   "cell_type": "code",
   "execution_count": 32,
   "metadata": {},
   "outputs": [],
   "source": [
    "wh_usa = pd.DataFrame(whi.loc[[\"United States\"],:])"
   ]
  },
  {
   "cell_type": "code",
   "execution_count": 50,
   "metadata": {},
   "outputs": [
    {
     "data": {
      "text/html": [
       "<div>\n",
       "<style scoped>\n",
       "    .dataframe tbody tr th:only-of-type {\n",
       "        vertical-align: middle;\n",
       "    }\n",
       "\n",
       "    .dataframe tbody tr th {\n",
       "        vertical-align: top;\n",
       "    }\n",
       "\n",
       "    .dataframe thead th {\n",
       "        text-align: right;\n",
       "    }\n",
       "</style>\n",
       "<table border=\"1\" class=\"dataframe\">\n",
       "  <thead>\n",
       "    <tr style=\"text-align: right;\">\n",
       "      <th></th>\n",
       "      <th>Country</th>\n",
       "      <th>Rank_15</th>\n",
       "      <th>Score_15</th>\n",
       "      <th>GDP_15</th>\n",
       "      <th>Family_15</th>\n",
       "      <th>Health_15</th>\n",
       "      <th>Freedom_15</th>\n",
       "      <th>Generosity_15</th>\n",
       "      <th>Trust_15</th>\n",
       "      <th>Rank_16</th>\n",
       "      <th>...</th>\n",
       "      <th>Generosity_18</th>\n",
       "      <th>Trust_18</th>\n",
       "      <th>Rank_19</th>\n",
       "      <th>Score_19</th>\n",
       "      <th>GDP_19</th>\n",
       "      <th>Family_19</th>\n",
       "      <th>Health_19</th>\n",
       "      <th>Freedom_19</th>\n",
       "      <th>Generosity_19</th>\n",
       "      <th>Trust_19</th>\n",
       "    </tr>\n",
       "  </thead>\n",
       "  <tbody>\n",
       "    <tr>\n",
       "      <td>0</td>\n",
       "      <td>United States</td>\n",
       "      <td>15.0</td>\n",
       "      <td>7.119</td>\n",
       "      <td>1.39451</td>\n",
       "      <td>1.24711</td>\n",
       "      <td>0.86179</td>\n",
       "      <td>0.54604</td>\n",
       "      <td>0.40105</td>\n",
       "      <td>0.1589</td>\n",
       "      <td>13.0</td>\n",
       "      <td>...</td>\n",
       "      <td>0.291</td>\n",
       "      <td>0.133</td>\n",
       "      <td>19.0</td>\n",
       "      <td>6.892</td>\n",
       "      <td>1.433</td>\n",
       "      <td>1.457</td>\n",
       "      <td>0.874</td>\n",
       "      <td>0.454</td>\n",
       "      <td>0.28</td>\n",
       "      <td>0.128</td>\n",
       "    </tr>\n",
       "  </tbody>\n",
       "</table>\n",
       "<p>1 rows × 41 columns</p>\n",
       "</div>"
      ],
      "text/plain": [
       "         Country  Rank_15  Score_15   GDP_15  Family_15  Health_15  \\\n",
       "0  United States     15.0     7.119  1.39451    1.24711    0.86179   \n",
       "\n",
       "   Freedom_15  Generosity_15  Trust_15  Rank_16  ...  Generosity_18  Trust_18  \\\n",
       "0     0.54604        0.40105    0.1589     13.0  ...          0.291     0.133   \n",
       "\n",
       "   Rank_19  Score_19  GDP_19  Family_19  Health_19  Freedom_19  Generosity_19  \\\n",
       "0     19.0     6.892   1.433      1.457      0.874       0.454           0.28   \n",
       "\n",
       "   Trust_19  \n",
       "0     0.128  \n",
       "\n",
       "[1 rows x 41 columns]"
      ]
     },
     "execution_count": 50,
     "metadata": {},
     "output_type": "execute_result"
    }
   ],
   "source": [
    "usa = wh_usa.reset_index()\n",
    "usa"
   ]
  },
  {
   "cell_type": "code",
   "execution_count": null,
   "metadata": {},
   "outputs": [],
   "source": [
    "xd_rank = {15}"
   ]
  },
  {
   "cell_type": "code",
   "execution_count": 76,
   "metadata": {},
   "outputs": [
    {
     "data": {
      "text/html": [
       "<div>\n",
       "<style scoped>\n",
       "    .dataframe tbody tr th:only-of-type {\n",
       "        vertical-align: middle;\n",
       "    }\n",
       "\n",
       "    .dataframe tbody tr th {\n",
       "        vertical-align: top;\n",
       "    }\n",
       "\n",
       "    .dataframe thead th {\n",
       "        text-align: right;\n",
       "    }\n",
       "</style>\n",
       "<table border=\"1\" class=\"dataframe\">\n",
       "  <thead>\n",
       "    <tr style=\"text-align: right;\">\n",
       "      <th></th>\n",
       "      <th>Trust_15</th>\n",
       "      <th>Trust_16</th>\n",
       "      <th>Trust_17</th>\n",
       "      <th>Trust_18</th>\n",
       "      <th>Trust_19</th>\n",
       "    </tr>\n",
       "  </thead>\n",
       "  <tbody>\n",
       "    <tr>\n",
       "      <td>0</td>\n",
       "      <td>0.1589</td>\n",
       "      <td>0.14868</td>\n",
       "      <td>0.135639</td>\n",
       "      <td>0.133</td>\n",
       "      <td>0.128</td>\n",
       "    </tr>\n",
       "  </tbody>\n",
       "</table>\n",
       "</div>"
      ],
      "text/plain": [
       "   Trust_15  Trust_16  Trust_17  Trust_18  Trust_19\n",
       "0    0.1589   0.14868  0.135639     0.133     0.128"
      ]
     },
     "execution_count": 76,
     "metadata": {},
     "output_type": "execute_result"
    }
   ],
   "source": [
    "usa_rank = usa[['Rank_15','Rank_16',\"Rank_17\",\"Rank_18\",\"Rank_19\"]]\n",
    "usa_score = usa[['Score_15','Score_16',\"Score_17\",\"Score_18\",\"Score_19\"]]\n",
    "usa_gdp = usa[['GDP_15','GDP_16',\"GDP_17\",\"GDP_18\",\"GDP_19\"]]\n",
    "usa_family = usa[['Family_15','Family_16',\"Family_17\",\"Family_18\",\"Family_19\"]]\n",
    "usa_health = usa[['Health_15','Health_16',\"Health_17\",\"Health_18\",\"Health_19\"]]\n",
    "usa_freedom = usa[['Freedom_15','Freedom_16',\"Freedom_17\",\"Freedom_18\",\"Freedom_19\"]]\n",
    "usa_generosity = usa[['Generosity_15','Generosity_16',\"Generosity_17\",\"Generosity_18\",\"Generosity_19\"]]\n",
    "usa_trust = usa[['Trust_15','Trust_16',\"Trust_17\",\"Trust_18\",\"Trust_19\"]]\n",
    "\n",
    "usa_trust"
   ]
  },
  {
   "cell_type": "code",
   "execution_count": 86,
   "metadata": {},
   "outputs": [],
   "source": [
    "usa_final = pd.DataFrame({\n",
    "    \"Values\": [\"Rank\", \"Score\", \"GDP\", \"Family\", \"Health\", \"Freedom\", \"Generosity\", \"Trust\"],\n",
    "    \"2015\": [15, 7.12, 1.39, 1.25, .86, .55, .40, .159],\n",
    "    \"2016\": [13, 7.10, 1.51, 1.05, .78, .48, .41, .149],\n",
    "    \"2017\": [14, 6.99, 1.55, 1.42, .77, .51, .39, .136],\n",
    "    \"2018\": [18, 6.89, 1.40, 1.47, .82, .55, .29, .133],\n",
    "    \"2019\": [19, 6.89, 1.43, 1.46, .87, .45, .28, .128]\n",
    "})"
   ]
  },
  {
   "cell_type": "code",
   "execution_count": 129,
   "metadata": {},
   "outputs": [],
   "source": [
    "xd_rank = [15,13,14,18,19]\n",
    "xd_score = [7.12,7.10,6.99,6.89,6.89]\n",
    "xd_gdp = [1.39,1.51,1.55,1.4,1.43]\n",
    "xd_family = [1.25,1.05,1.42,1.47,1.46]\n",
    "xd_health = [.86,.78,.77,.82,.87]\n",
    "xd_freedom = [.55,.48,.51,.55,.45]\n",
    "xd_generosity = [.40,.41,.39,.29,.28]\n",
    "xd_trust = [.159,.149,.136,.133,.128]\n",
    "\n",
    "x_axis = np.arange(2015, 2020, 1)"
   ]
  },
  {
   "cell_type": "code",
   "execution_count": 130,
   "metadata": {},
   "outputs": [
    {
     "data": {
      "text/html": [
       "<div>\n",
       "<style scoped>\n",
       "    .dataframe tbody tr th:only-of-type {\n",
       "        vertical-align: middle;\n",
       "    }\n",
       "\n",
       "    .dataframe tbody tr th {\n",
       "        vertical-align: top;\n",
       "    }\n",
       "\n",
       "    .dataframe thead th {\n",
       "        text-align: right;\n",
       "    }\n",
       "</style>\n",
       "<table border=\"1\" class=\"dataframe\">\n",
       "  <thead>\n",
       "    <tr style=\"text-align: right;\">\n",
       "      <th></th>\n",
       "      <th>Values</th>\n",
       "      <th>2015</th>\n",
       "      <th>2016</th>\n",
       "      <th>2017</th>\n",
       "      <th>2018</th>\n",
       "      <th>2019</th>\n",
       "    </tr>\n",
       "  </thead>\n",
       "  <tbody>\n",
       "    <tr>\n",
       "      <td>0</td>\n",
       "      <td>Rank</td>\n",
       "      <td>15.000</td>\n",
       "      <td>13.000</td>\n",
       "      <td>14.000</td>\n",
       "      <td>18.000</td>\n",
       "      <td>19.000</td>\n",
       "    </tr>\n",
       "    <tr>\n",
       "      <td>1</td>\n",
       "      <td>Score</td>\n",
       "      <td>7.120</td>\n",
       "      <td>7.100</td>\n",
       "      <td>6.990</td>\n",
       "      <td>6.890</td>\n",
       "      <td>6.890</td>\n",
       "    </tr>\n",
       "    <tr>\n",
       "      <td>2</td>\n",
       "      <td>GDP</td>\n",
       "      <td>1.390</td>\n",
       "      <td>1.510</td>\n",
       "      <td>1.550</td>\n",
       "      <td>1.400</td>\n",
       "      <td>1.430</td>\n",
       "    </tr>\n",
       "    <tr>\n",
       "      <td>3</td>\n",
       "      <td>Family</td>\n",
       "      <td>1.250</td>\n",
       "      <td>1.050</td>\n",
       "      <td>1.420</td>\n",
       "      <td>1.470</td>\n",
       "      <td>1.460</td>\n",
       "    </tr>\n",
       "    <tr>\n",
       "      <td>4</td>\n",
       "      <td>Health</td>\n",
       "      <td>0.860</td>\n",
       "      <td>0.780</td>\n",
       "      <td>0.770</td>\n",
       "      <td>0.820</td>\n",
       "      <td>0.870</td>\n",
       "    </tr>\n",
       "    <tr>\n",
       "      <td>5</td>\n",
       "      <td>Freedom</td>\n",
       "      <td>0.550</td>\n",
       "      <td>0.480</td>\n",
       "      <td>0.510</td>\n",
       "      <td>0.550</td>\n",
       "      <td>0.450</td>\n",
       "    </tr>\n",
       "    <tr>\n",
       "      <td>6</td>\n",
       "      <td>Generosity</td>\n",
       "      <td>0.400</td>\n",
       "      <td>0.410</td>\n",
       "      <td>0.390</td>\n",
       "      <td>0.290</td>\n",
       "      <td>0.280</td>\n",
       "    </tr>\n",
       "    <tr>\n",
       "      <td>7</td>\n",
       "      <td>Trust</td>\n",
       "      <td>0.159</td>\n",
       "      <td>0.149</td>\n",
       "      <td>0.136</td>\n",
       "      <td>0.133</td>\n",
       "      <td>0.128</td>\n",
       "    </tr>\n",
       "  </tbody>\n",
       "</table>\n",
       "</div>"
      ],
      "text/plain": [
       "       Values    2015    2016    2017    2018    2019\n",
       "0        Rank  15.000  13.000  14.000  18.000  19.000\n",
       "1       Score   7.120   7.100   6.990   6.890   6.890\n",
       "2         GDP   1.390   1.510   1.550   1.400   1.430\n",
       "3      Family   1.250   1.050   1.420   1.470   1.460\n",
       "4      Health   0.860   0.780   0.770   0.820   0.870\n",
       "5     Freedom   0.550   0.480   0.510   0.550   0.450\n",
       "6  Generosity   0.400   0.410   0.390   0.290   0.280\n",
       "7       Trust   0.159   0.149   0.136   0.133   0.128"
      ]
     },
     "execution_count": 130,
     "metadata": {},
     "output_type": "execute_result"
    }
   ],
   "source": [
    "usa_final"
   ]
  },
  {
   "cell_type": "code",
   "execution_count": 131,
   "metadata": {},
   "outputs": [
    {
     "data": {
      "text/html": [
       "<div>\n",
       "<style scoped>\n",
       "    .dataframe tbody tr th:only-of-type {\n",
       "        vertical-align: middle;\n",
       "    }\n",
       "\n",
       "    .dataframe tbody tr th {\n",
       "        vertical-align: top;\n",
       "    }\n",
       "\n",
       "    .dataframe thead th {\n",
       "        text-align: right;\n",
       "    }\n",
       "</style>\n",
       "<table border=\"1\" class=\"dataframe\">\n",
       "  <thead>\n",
       "    <tr style=\"text-align: right;\">\n",
       "      <th></th>\n",
       "      <th>Values</th>\n",
       "      <th>2015</th>\n",
       "      <th>2016</th>\n",
       "      <th>2017</th>\n",
       "      <th>2018</th>\n",
       "      <th>2019</th>\n",
       "    </tr>\n",
       "  </thead>\n",
       "  <tbody>\n",
       "    <tr>\n",
       "      <td>0</td>\n",
       "      <td>Rank</td>\n",
       "      <td>15.000</td>\n",
       "      <td>13.000</td>\n",
       "      <td>14.000</td>\n",
       "      <td>18.000</td>\n",
       "      <td>19.000</td>\n",
       "    </tr>\n",
       "    <tr>\n",
       "      <td>1</td>\n",
       "      <td>Score</td>\n",
       "      <td>7.120</td>\n",
       "      <td>7.100</td>\n",
       "      <td>6.990</td>\n",
       "      <td>6.890</td>\n",
       "      <td>6.890</td>\n",
       "    </tr>\n",
       "    <tr>\n",
       "      <td>2</td>\n",
       "      <td>GDP</td>\n",
       "      <td>1.390</td>\n",
       "      <td>1.510</td>\n",
       "      <td>1.550</td>\n",
       "      <td>1.400</td>\n",
       "      <td>1.430</td>\n",
       "    </tr>\n",
       "    <tr>\n",
       "      <td>3</td>\n",
       "      <td>Family</td>\n",
       "      <td>1.250</td>\n",
       "      <td>1.050</td>\n",
       "      <td>1.420</td>\n",
       "      <td>1.470</td>\n",
       "      <td>1.460</td>\n",
       "    </tr>\n",
       "    <tr>\n",
       "      <td>4</td>\n",
       "      <td>Health</td>\n",
       "      <td>0.860</td>\n",
       "      <td>0.780</td>\n",
       "      <td>0.770</td>\n",
       "      <td>0.820</td>\n",
       "      <td>0.870</td>\n",
       "    </tr>\n",
       "    <tr>\n",
       "      <td>5</td>\n",
       "      <td>Freedom</td>\n",
       "      <td>0.550</td>\n",
       "      <td>0.480</td>\n",
       "      <td>0.510</td>\n",
       "      <td>0.550</td>\n",
       "      <td>0.450</td>\n",
       "    </tr>\n",
       "    <tr>\n",
       "      <td>6</td>\n",
       "      <td>Generosity</td>\n",
       "      <td>0.400</td>\n",
       "      <td>0.410</td>\n",
       "      <td>0.390</td>\n",
       "      <td>0.290</td>\n",
       "      <td>0.280</td>\n",
       "    </tr>\n",
       "    <tr>\n",
       "      <td>7</td>\n",
       "      <td>Trust</td>\n",
       "      <td>0.159</td>\n",
       "      <td>0.149</td>\n",
       "      <td>0.136</td>\n",
       "      <td>0.133</td>\n",
       "      <td>0.128</td>\n",
       "    </tr>\n",
       "  </tbody>\n",
       "</table>\n",
       "</div>"
      ],
      "text/plain": [
       "       Values    2015    2016    2017    2018    2019\n",
       "0        Rank  15.000  13.000  14.000  18.000  19.000\n",
       "1       Score   7.120   7.100   6.990   6.890   6.890\n",
       "2         GDP   1.390   1.510   1.550   1.400   1.430\n",
       "3      Family   1.250   1.050   1.420   1.470   1.460\n",
       "4      Health   0.860   0.780   0.770   0.820   0.870\n",
       "5     Freedom   0.550   0.480   0.510   0.550   0.450\n",
       "6  Generosity   0.400   0.410   0.390   0.290   0.280\n",
       "7       Trust   0.159   0.149   0.136   0.133   0.128"
      ]
     },
     "execution_count": 131,
     "metadata": {},
     "output_type": "execute_result"
    }
   ],
   "source": [
    "usa_final2 = pd.DataFrame({\n",
    "    \"Years\": [\"Rank\", \"Score\", \"GDP\", \"Family\", \"Health\", \"Freedom\", \"Generosity\", \"Trust\"],\n",
    "    \"2015\": [15, 7.12, 1.39, 1.25, .86, .55, .40, .159],\n",
    "    \"2016\": [13, 7.10, 1.51, 1.05, .78, .48, .41, .149],\n",
    "    \"2017\": [14, 6.99, 1.55, 1.42, .77, .51, .39, .136],\n",
    "    \"2018\": [18, 6.89, 1.40, 1.47, .82, .55, .29, .133],\n",
    "    \"2019\": [19, 6.89, 1.43, 1.46, .87, .45, .28, .128]\n",
    "})\n",
    "usa_final"
   ]
  },
  {
   "cell_type": "code",
   "execution_count": 132,
   "metadata": {},
   "outputs": [
    {
     "data": {
      "text/html": [
       "<div>\n",
       "<style scoped>\n",
       "    .dataframe tbody tr th:only-of-type {\n",
       "        vertical-align: middle;\n",
       "    }\n",
       "\n",
       "    .dataframe tbody tr th {\n",
       "        vertical-align: top;\n",
       "    }\n",
       "\n",
       "    .dataframe thead th {\n",
       "        text-align: right;\n",
       "    }\n",
       "</style>\n",
       "<table border=\"1\" class=\"dataframe\">\n",
       "  <thead>\n",
       "    <tr style=\"text-align: right;\">\n",
       "      <th></th>\n",
       "      <th>0</th>\n",
       "      <th>1</th>\n",
       "      <th>2</th>\n",
       "      <th>3</th>\n",
       "      <th>4</th>\n",
       "      <th>5</th>\n",
       "      <th>6</th>\n",
       "      <th>7</th>\n",
       "    </tr>\n",
       "  </thead>\n",
       "  <tbody>\n",
       "    <tr>\n",
       "      <td>Values</td>\n",
       "      <td>Rank</td>\n",
       "      <td>Score</td>\n",
       "      <td>GDP</td>\n",
       "      <td>Family</td>\n",
       "      <td>Health</td>\n",
       "      <td>Freedom</td>\n",
       "      <td>Generosity</td>\n",
       "      <td>Trust</td>\n",
       "    </tr>\n",
       "    <tr>\n",
       "      <td>2015</td>\n",
       "      <td>15</td>\n",
       "      <td>7.12</td>\n",
       "      <td>1.39</td>\n",
       "      <td>1.25</td>\n",
       "      <td>0.86</td>\n",
       "      <td>0.55</td>\n",
       "      <td>0.4</td>\n",
       "      <td>0.159</td>\n",
       "    </tr>\n",
       "    <tr>\n",
       "      <td>2016</td>\n",
       "      <td>13</td>\n",
       "      <td>7.1</td>\n",
       "      <td>1.51</td>\n",
       "      <td>1.05</td>\n",
       "      <td>0.78</td>\n",
       "      <td>0.48</td>\n",
       "      <td>0.41</td>\n",
       "      <td>0.149</td>\n",
       "    </tr>\n",
       "    <tr>\n",
       "      <td>2017</td>\n",
       "      <td>14</td>\n",
       "      <td>6.99</td>\n",
       "      <td>1.55</td>\n",
       "      <td>1.42</td>\n",
       "      <td>0.77</td>\n",
       "      <td>0.51</td>\n",
       "      <td>0.39</td>\n",
       "      <td>0.136</td>\n",
       "    </tr>\n",
       "    <tr>\n",
       "      <td>2018</td>\n",
       "      <td>18</td>\n",
       "      <td>6.89</td>\n",
       "      <td>1.4</td>\n",
       "      <td>1.47</td>\n",
       "      <td>0.82</td>\n",
       "      <td>0.55</td>\n",
       "      <td>0.29</td>\n",
       "      <td>0.133</td>\n",
       "    </tr>\n",
       "    <tr>\n",
       "      <td>2019</td>\n",
       "      <td>19</td>\n",
       "      <td>6.89</td>\n",
       "      <td>1.43</td>\n",
       "      <td>1.46</td>\n",
       "      <td>0.87</td>\n",
       "      <td>0.45</td>\n",
       "      <td>0.28</td>\n",
       "      <td>0.128</td>\n",
       "    </tr>\n",
       "  </tbody>\n",
       "</table>\n",
       "</div>"
      ],
      "text/plain": [
       "           0      1     2       3       4        5           6      7\n",
       "Values  Rank  Score   GDP  Family  Health  Freedom  Generosity  Trust\n",
       "2015      15   7.12  1.39    1.25    0.86     0.55         0.4  0.159\n",
       "2016      13    7.1  1.51    1.05    0.78     0.48        0.41  0.149\n",
       "2017      14   6.99  1.55    1.42    0.77     0.51        0.39  0.136\n",
       "2018      18   6.89   1.4    1.47    0.82     0.55        0.29  0.133\n",
       "2019      19   6.89  1.43    1.46    0.87     0.45        0.28  0.128"
      ]
     },
     "execution_count": 132,
     "metadata": {},
     "output_type": "execute_result"
    }
   ],
   "source": [
    "years = usa_final.keys()\n",
    "usa_trans = usa_final.T\n",
    "usa_trans"
   ]
  },
  {
   "cell_type": "code",
   "execution_count": 175,
   "metadata": {},
   "outputs": [
    {
     "data": {
      "image/png": "[encoded data removed]",
      "text/plain": [
       "<Figure size 432x288 with 1 Axes>"
      ]
     },
     "metadata": {
      "needs_background": "light"
     },
     "output_type": "display_data"
    }
   ],
   "source": [
    "rplot, = plt.plot(x_axis, xd_rank, marker=\"o\",color=\"b\", linewidth=1, label=\"Rank\")\n",
    "splot, = plt.plot(x_axis, xd_score, marker=\"o\",color=\"r\", linewidth=1, label=\"Score\")\n",
    "gplot, = plt.plot(x_axis, xd_gdp, marker=\"o\",color=\"g\", linewidth=1, label=\"GDP\")\n",
    "faplot, = plt.plot(x_axis, xd_family, marker=\"o\",color=\"c\", linewidth=1, label=\"Family\")\n",
    "hplot, = plt.plot(x_axis, xd_health, marker=\"o\",color=\"m\", linewidth=1, label=\"Health\")\n",
    "frplot, = plt.plot(x_axis, xd_freedom, marker=\"o\",color=\"y\", linewidth=1, label=\"Freedom\")\n",
    "geplot, = plt.plot(x_axis, xd_generosity, marker=\"o\",color=\"k\", linewidth=1, label=\"Generosity\")\n",
    "tplot, = plt.plot(x_axis, xd_trust, marker=\"o\",color=\"b\", linewidth=1, label=\"Trust\")\n",
    "plt.legend(loc=\"lower right\")\n",
    "plt.xticks(np.arange(min(x_axis), max(x_axis)+1, 1.0))\n",
    "plt.savefig('all.png')"
   ]
  },
  {
   "cell_type": "code",
   "execution_count": 183,
   "metadata": {},
   "outputs": [
    {
     "data": {
      "image/png": "[encoded data removed]",
      "text/plain": [
       "<Figure size 432x288 with 1 Axes>"
      ]
     },
     "metadata": {
      "needs_background": "light"
     },
     "output_type": "display_data"
    }
   ],
   "source": [
    "rplot, = plt.plot(x_axis, xd_rank, marker=\"o\",color=\"b\", linewidth=1, label=\"Rank\")\n",
    "plt.legend(loc=\"lower right\")\n",
    "plt.xticks(np.arange(min(x_axis), max(x_axis)+1, 1.0))\n",
    "plt.savefig('rank.png')"
   ]
  },
  {
   "cell_type": "code",
   "execution_count": 177,
   "metadata": {},
   "outputs": [
    {
     "data": {
      "image/png": "[encoded data removed]",
      "text/plain": [
       "<Figure size 432x288 with 1 Axes>"
      ]
     },
     "metadata": {
      "needs_background": "light"
     },
     "output_type": "display_data"
    }
   ],
   "source": [
    "splot, = plt.plot(x_axis, xd_score, marker=\"o\",color=\"r\", linewidth=1, label=\"Score\")\n",
    "plt.legend(loc=\"upper right\")\n",
    "plt.xticks(np.arange(min(x_axis), max(x_axis)+1, 1.0))\n",
    "plt.savefig('score.png')"
   ]
  },
  {
   "cell_type": "code",
   "execution_count": 181,
   "metadata": {},
   "outputs": [
    {
     "data": {
      "image/png": "[encoded data removed]",
      "text/plain": [
       "<Figure size 432x288 with 1 Axes>"
      ]
     },
     "metadata": {
      "needs_background": "light"
     },
     "output_type": "display_data"
    }
   ],
   "source": [
    "rplot, = plt.plot(x_axis, xd_rank, marker=\"o\",color=\"b\", linewidth=1, label=\"Rank\")\n",
    "splot, = plt.plot(x_axis, xd_score, marker=\"o\",color=\"r\", linewidth=1, label=\"Score\")\n",
    "plt.legend(loc=\"lower right\")\n",
    "plt.xticks(np.arange(min(x_axis), max(x_axis)+1, 1.0))\n",
    "plt.savefig('rank_score.png')"
   ]
  },
  {
   "cell_type": "code",
   "execution_count": 178,
   "metadata": {},
   "outputs": [
    {
     "data": {
      "image/png": "[encoded data removed]",
      "text/plain": [
       "<Figure size 432x288 with 1 Axes>"
      ]
     },
     "metadata": {
      "needs_background": "light"
     },
     "output_type": "display_data"
    }
   ],
   "source": [
    "gplot, = plt.plot(x_axis, xd_gdp, marker=\"o\",color=\"g\", linewidth=1, label=\"GDP\")\n",
    "faplot, = plt.plot(x_axis, xd_family, marker=\"o\",color=\"c\", linewidth=1, label=\"Family\")\n",
    "hplot, = plt.plot(x_axis, xd_health, marker=\"o\",color=\"m\", linewidth=1, label=\"Health\")\n",
    "frplot, = plt.plot(x_axis, xd_freedom, marker=\"o\",color=\"y\", linewidth=1, label=\"Freedom\")\n",
    "geplot, = plt.plot(x_axis, xd_generosity, marker=\"o\",color=\"k\", linewidth=1, label=\"Generosity\")\n",
    "tplot, = plt.plot(x_axis, xd_trust, marker=\"o\",color=\"b\", linewidth=1, label=\"Trust\")\n",
    "plt.legend(loc=\"best\")\n",
    "plt.legend(fontsize='small')\n",
    "plt.xticks(np.arange(min(x_axis), max(x_axis)+1, 1.0))\n",
    "plt.savefig('factors.png')"
   ]
  },
  {
   "cell_type": "code",
   "execution_count": 156,
   "metadata": {},
   "outputs": [
    {
     "data": {
      "text/plain": [
       "<matplotlib.legend.Legend at 0x1384fef9208>"
      ]
     },
     "execution_count": 156,
     "metadata": {},
     "output_type": "execute_result"
    },
    {
     "data": {
      "image/png": "[encoded data removed]",
      "text/plain": [
       "<Figure size 432x288 with 1 Axes>"
      ]
     },
     "metadata": {
      "needs_background": "light"
     },
     "output_type": "display_data"
    }
   ],
   "source": [
    "gplot, = plt.plot(x_axis, xd_gdp, marker=\"o\",color=\"g\", linewidth=1, label=\"GDP\")\n",
    "faplot, = plt.plot(x_axis, xd_family, marker=\"o\",color=\"c\", linewidth=1, label=\"Family\")\n",
    "plt.legend(loc=\"lower right\")\n",
    "plt.savefig('heatmap.png')"
   ]
  },
  {
   "cell_type": "code",
   "execution_count": 158,
   "metadata": {},
   "outputs": [
    {
     "data": {
      "text/plain": [
       "<matplotlib.legend.Legend at 0x13850059e08>"
      ]
     },
     "execution_count": 158,
     "metadata": {},
     "output_type": "execute_result"
    },
    {
     "data": {
      "image/png": "[encoded data removed]",
      "text/plain": [
       "<Figure size 432x288 with 1 Axes>"
      ]
     },
     "metadata": {
      "needs_background": "light"
     },
     "output_type": "display_data"
    }
   ],
   "source": [
    "hplot, = plt.plot(x_axis, xd_health, marker=\"o\",color=\"m\", linewidth=1, label=\"Health\")\n",
    "frplot, = plt.plot(x_axis, xd_freedom, marker=\"o\",color=\"y\", linewidth=1, label=\"Freedom\")\n",
    "geplot, = plt.plot(x_axis, xd_generosity, marker=\"o\",color=\"k\", linewidth=1, label=\"Generosity\")\n",
    "tplot, = plt.plot(x_axis, xd_trust, marker=\"o\",color=\"b\", linewidth=1, label=\"Trust\")\n",
    "plt.legend(loc=\"best\")\n",
    "plt.savefig('heatmap.png')"
   ]
  },
  {
   "cell_type": "code",
   "execution_count": 163,
   "metadata": {},
   "outputs": [
    {
     "data": {
      "text/plain": [
       "<matplotlib.legend.Legend at 0x13850286488>"
      ]
     },
     "execution_count": 163,
     "metadata": {},
     "output_type": "execute_result"
    },
    {
     "data": {
      "image/png": "[encoded data removed]",
      "text/plain": [
       "<Figure size 432x288 with 1 Axes>"
      ]
     },
     "metadata": {
      "needs_background": "light"
     },
     "output_type": "display_data"
    }
   ],
   "source": [
    "hplot, = plt.plot(x_axis, xd_health, marker=\"o\",color=\"m\", linewidth=1, label=\"Health\")\n",
    "plt.legend(loc=\"best\")\n"
   ]
  },
  {
   "cell_type": "code",
   "execution_count": 164,
   "metadata": {},
   "outputs": [
    {
     "data": {
      "text/plain": [
       "<matplotlib.legend.Legend at 0x13850322a08>"
      ]
     },
     "execution_count": 164,
     "metadata": {},
     "output_type": "execute_result"
    },
    {
     "data": {
      "image/png": "[encoded data removed]",
      "text/plain": [
       "<Figure size 432x288 with 1 Axes>"
      ]
     },
     "metadata": {
      "needs_background": "light"
     },
     "output_type": "display_data"
    }
   ],
   "source": [
    "frplot, = plt.plot(x_axis, xd_freedom, marker=\"o\",color=\"y\", linewidth=1, label=\"Freedom\")\n",
    "geplot, = plt.plot(x_axis, xd_generosity, marker=\"o\",color=\"k\", linewidth=1, label=\"Generosity\")\n",
    "tplot, = plt.plot(x_axis, xd_trust, marker=\"o\",color=\"b\", linewidth=1, label=\"Trust\")\n",
    "plt.legend(loc=\"best\")"
   ]
  },
  {
   "cell_type": "code",
   "execution_count": 184,
   "metadata": {},
   "outputs": [
    {
     "data": {
      "image/png": "[encoded data removed]",
      "text/plain": [
       "<Figure size 432x288 with 1 Axes>"
      ]
     },
     "metadata": {
      "needs_background": "light"
     },
     "output_type": "display_data"
    }
   ],
   "source": [
    "rplot, = plt.plot(x_axis, xd_rank, marker=\"o\",color=\"b\", linewidth=1, label=\"Rank\")\n",
    "plt.xticks(np.arange(min(x_axis), max(x_axis)+1, 1.0))\n",
    "plt.legend(loc=\"lower right\")\n",
    "plt.savefig('rank.png')"
   ]
  },
  {
   "cell_type": "code",
   "execution_count": null,
   "metadata": {},
   "outputs": [],
   "source": []
  }
 ],
 "metadata": {
  "kernelspec": {
   "display_name": "Python 3",
   "language": "python",
   "name": "python3"
  },
  "language_info": {
   "codemirror_mode": {
    "name": "ipython",
    "version": 3
   },
   "file_extension": ".py",
   "mimetype": "text/x-python",
   "name": "python",
   "nbconvert_exporter": "python",
   "pygments_lexer": "ipython3",
   "version": "3.7.4"
  }
 },
 "nbformat": 4,
 "nbformat_minor": 4
}
